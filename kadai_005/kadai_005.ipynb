{
  "nbformat": 4,
  "nbformat_minor": 0,
  "metadata": {
    "colab": {
      "provenance": []
    },
    "kernelspec": {
      "name": "python3",
      "display_name": "Python 3"
    },
    "language_info": {
      "name": "python"
    }
  },
  "cells": [
    {
      "cell_type": "code",
      "execution_count": 1,
      "metadata": {
        "colab": {
          "base_uri": "https://localhost:8080/"
        },
        "id": "PX-gwJFYNlqQ",
        "outputId": "813f8651-15f6-4254-84a1-f1efefa548f3"
      },
      "outputs": [
        {
          "output_type": "stream",
          "name": "stdout",
          "text": [
            "75.0cm²\n"
          ]
        }
      ],
      "source": [
        "upper = 10\n",
        "lawer = 20\n",
        "height = 5\n",
        "\n",
        "area = (upper + lawer) * height / 2\n",
        "\n",
        "print(f'{area}cm²')"
      ]
    },
    {
      "cell_type": "code",
      "source": [],
      "metadata": {
        "id": "N0UtyL_zObgn"
      },
      "execution_count": null,
      "outputs": []
    }
  ]
}